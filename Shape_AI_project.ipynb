{
  "nbformat": 4,
  "nbformat_minor": 0,
  "metadata": {
    "colab": {
      "name": "Shape AI project",
      "provenance": [],
      "collapsed_sections": [],
      "toc_visible": true
    },
    "kernelspec": {
      "name": "python3",
      "display_name": "Python 3"
    },
    "language_info": {
      "name": "python"
    }
  },
  "cells": [
    {
      "cell_type": "code",
      "metadata": {
        "colab": {
          "base_uri": "https://localhost:8080/"
        },
        "id": "61WKZiR4oP30",
        "outputId": "d34a2f58-623f-4d56-da2a-3deef3188337"
      },
      "source": [
        "import requests\n",
        " \n",
        "from datetime import datetime\n",
        " \n",
        "api_key = '87d845b0b6cf29baa1a73cc34b067a95'\n",
        " \n",
        "location = input(\"Enter the city name: \")\n",
        " \n",
        "complete_api_link= \"https://api.openweathermap.org/data/2.5/weather?q=\"+location+\"&appid=\"+api_key\n",
        " \n",
        "api_link= requests.get(complete_api_link)\n",
        " \n",
        "api_data = api_link.json()\n",
        " \n",
        "#create variables to store and display data\n",
        " \n",
        "temp_city = ((api_data['main']['temp']) - 273.15)\n",
        " \n",
        "weather_desc = api_data['weather'][0]['description']\n",
        " \n",
        "hmdt = api_data[ 'main']['humidity']\n",
        " \n",
        "wind_spd = api_data['wind' ]['speed']\n",
        " \n",
        "date_time = datetime.now().strftime (\"%d %b %Y | %I: % M:%S %p\")\n",
        " \n",
        "print (\"---------––-------------------\")\n",
        " \n",
        "print (\"Weather Stats for - {} || {}\".format(location.upper(), date_time))\n",
        " \n",
        "print (\"--------------------------------\")\n",
        " \n",
        "print (\"Current temperature is: {:.2f} deg C\".format(temp_city))\n",
        " \n",
        "print(\"Currentweatherdesc:\",weather_desc)\n",
        " \n",
        "print (\"Current Humidity:\", hmdt, '%')\n",
        " \n",
        "print (\"Current wind speed:\",wind_spd, 'kmph')"
      ],
      "execution_count": null,
      "outputs": [
        {
          "output_type": "stream",
          "text": [
            "Enter the city name: ranchi\n",
            "---------––-------------------\n",
            "Weather Stats for - RANCHI || 23 Jun 2021 | 06: % M:22 AM\n",
            "--------------------------------\n",
            "Current temperature is: 27.06 deg C\n",
            "Currentweatherdesc: haze\n",
            "Current Humidity: 78 %\n",
            "Current wind speed: 3.09 kmph\n"
          ],
          "name": "stdout"
        }
      ]
    },
    {
      "cell_type": "code",
      "metadata": {
        "id": "Gw0x9GPrp3Is"
      },
      "source": [
        ""
      ],
      "execution_count": null,
      "outputs": []
    }
  ]
}